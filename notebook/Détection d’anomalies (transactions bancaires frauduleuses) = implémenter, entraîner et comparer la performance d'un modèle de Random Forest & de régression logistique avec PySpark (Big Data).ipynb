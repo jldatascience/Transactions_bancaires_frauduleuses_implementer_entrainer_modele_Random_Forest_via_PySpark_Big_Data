{
 "cells": [
  {
   "attachments": {},
   "cell_type": "markdown",
   "metadata": {},
   "source": [
    "# Traitement de données massives (Big Data) avec PySpark\n",
    "\n"
   ]
  },
  {
   "attachments": {},
   "cell_type": "markdown",
   "metadata": {},
   "source": [
    "# Détection d’anomalies (transactions bancaires frauduleuses) = implémenter, entraîner et comparer la performance d'un modèle de Random Forest & de régression logistique avec PySpark (Big Data)"
   ]
  },
  {
   "cell_type": "code",
   "execution_count": 1,
   "metadata": {
    "dst-cell-id": "7e82e30a-5a52-4eff-bd21-8a31c8d0872d"
   },
   "outputs": [
    {
     "data": {
      "text/html": [
       "\n",
       "            <div>\n",
       "                <p><b>SparkSession - in-memory</b></p>\n",
       "                \n",
       "        <div>\n",
       "            <p><b>SparkContext</b></p>\n",
       "\n",
       "            <p><a href=\"http://ip-172-31-0-177.eu-west-1.compute.internal:4041\">Spark UI</a></p>\n",
       "\n",
       "            <dl>\n",
       "              <dt>Version</dt>\n",
       "                <dd><code>v2.4.3</code></dd>\n",
       "              <dt>Master</dt>\n",
       "                <dd><code>local[*]</code></dd>\n",
       "              <dt>AppName</dt>\n",
       "                <dd><code>pyspark-shell</code></dd>\n",
       "            </dl>\n",
       "        </div>\n",
       "        \n",
       "            </div>\n",
       "        "
      ],
      "text/plain": [
       "<pyspark.sql.session.SparkSession at 0x7fcab497d860>"
      ]
     },
     "execution_count": 1,
     "metadata": {},
     "output_type": "execute_result"
    }
   ],
   "source": [
    "#Import de SparkSession et SparkContext\n",
    "from pyspark.sql import SparkSession\n",
    "from pyspark import SparkContext\n",
    "\n",
    "# Définition d'un SparkContext en local\n",
    "sc = SparkContext()\n",
    "\n",
    "# Construction d'une Session Spark\n",
    "spark = SparkSession \\\n",
    "    .builder \\\n",
    "    .master(\"local\") \\\n",
    "    .appName(\"PySpark\") \\\n",
    "    .getOrCreate()\n",
    "    \n",
    "# spark\n",
    "spark"
   ]
  },
  {
   "cell_type": "code",
   "execution_count": 2,
   "metadata": {
    "dst-cell-id": "537e65de-086e-4a56-828d-4124b6315a3e"
   },
   "outputs": [
    {
     "data": {
      "text/html": [
       "<div>\n",
       "<style scoped>\n",
       "    .dataframe tbody tr th:only-of-type {\n",
       "        vertical-align: middle;\n",
       "    }\n",
       "\n",
       "    .dataframe tbody tr th {\n",
       "        vertical-align: top;\n",
       "    }\n",
       "\n",
       "    .dataframe thead th {\n",
       "        text-align: right;\n",
       "    }\n",
       "</style>\n",
       "<table border=\"1\" class=\"dataframe\">\n",
       "  <thead>\n",
       "    <tr style=\"text-align: right;\">\n",
       "      <th></th>\n",
       "      <th>Time</th>\n",
       "      <th>V1</th>\n",
       "      <th>V2</th>\n",
       "      <th>V3</th>\n",
       "      <th>V4</th>\n",
       "      <th>V5</th>\n",
       "      <th>V6</th>\n",
       "      <th>V7</th>\n",
       "      <th>V8</th>\n",
       "      <th>V9</th>\n",
       "      <th>...</th>\n",
       "      <th>V21</th>\n",
       "      <th>V22</th>\n",
       "      <th>V23</th>\n",
       "      <th>V24</th>\n",
       "      <th>V25</th>\n",
       "      <th>V26</th>\n",
       "      <th>V27</th>\n",
       "      <th>V28</th>\n",
       "      <th>Amount</th>\n",
       "      <th>Class</th>\n",
       "    </tr>\n",
       "  </thead>\n",
       "  <tbody>\n",
       "    <tr>\n",
       "      <th>0</th>\n",
       "      <td>42234</td>\n",
       "      <td>-1.7524331477332</td>\n",
       "      <td>-0.419055733827287</td>\n",
       "      <td>2.53528644046672</td>\n",
       "      <td>0.0435559315179309</td>\n",
       "      <td>1.19562715748271</td>\n",
       "      <td>2.11740918676437</td>\n",
       "      <td>0.622240351843119</td>\n",
       "      <td>0.0697994996855651</td>\n",
       "      <td>0.76353153361211</td>\n",
       "      <td>...</td>\n",
       "      <td>-0.0286771358898975</td>\n",
       "      <td>0.830596805435572</td>\n",
       "      <td>-0.335279683642818</td>\n",
       "      <td>-1.00779708785447</td>\n",
       "      <td>0.245120949124039</td>\n",
       "      <td>-0.35929465581098</td>\n",
       "      <td>-0.731133628928866</td>\n",
       "      <td>-0.426853189642464</td>\n",
       "      <td>87.11</td>\n",
       "      <td>0</td>\n",
       "    </tr>\n",
       "    <tr>\n",
       "      <th>1</th>\n",
       "      <td>42641</td>\n",
       "      <td>-0.873102958309257</td>\n",
       "      <td>-0.466765914550112</td>\n",
       "      <td>2.23215730360367</td>\n",
       "      <td>1.73103360762164</td>\n",
       "      <td>0.652687670394182</td>\n",
       "      <td>0.763353265492849</td>\n",
       "      <td>-0.199816332688368</td>\n",
       "      <td>0.241234378153372</td>\n",
       "      <td>0.803049715750664</td>\n",
       "      <td>...</td>\n",
       "      <td>-0.29981676581135</td>\n",
       "      <td>-0.510785112040975</td>\n",
       "      <td>0.14233434055339</td>\n",
       "      <td>-0.463695297130048</td>\n",
       "      <td>-0.299635035162249</td>\n",
       "      <td>-0.433643172068359</td>\n",
       "      <td>0.0288172443772179</td>\n",
       "      <td>-0.0548318581042295</td>\n",
       "      <td>53.73</td>\n",
       "      <td>0</td>\n",
       "    </tr>\n",
       "    <tr>\n",
       "      <th>2</th>\n",
       "      <td>45351</td>\n",
       "      <td>-1.0568688599443</td>\n",
       "      <td>0.38433504372213</td>\n",
       "      <td>0.834099707878581</td>\n",
       "      <td>-1.81454179209205</td>\n",
       "      <td>-0.523873927518483</td>\n",
       "      <td>-0.00663293153702545</td>\n",
       "      <td>-0.686254132914173</td>\n",
       "      <td>-2.70547500574678</td>\n",
       "      <td>-1.89222291887493</td>\n",
       "      <td>...</td>\n",
       "      <td>-0.875309388105664</td>\n",
       "      <td>1.38267916351104</td>\n",
       "      <td>-0.272977007236098</td>\n",
       "      <td>0.0550718778421547</td>\n",
       "      <td>-0.0999609938893566</td>\n",
       "      <td>-0.303686035486177</td>\n",
       "      <td>0.152844671937108</td>\n",
       "      <td>0.120109403842216</td>\n",
       "      <td>121</td>\n",
       "      <td>0</td>\n",
       "    </tr>\n",
       "    <tr>\n",
       "      <th>3</th>\n",
       "      <td>54459</td>\n",
       "      <td>-2.88433244607372</td>\n",
       "      <td>0.241184293767801</td>\n",
       "      <td>1.81832594577724</td>\n",
       "      <td>0.315421897263641</td>\n",
       "      <td>-1.2025760719795</td>\n",
       "      <td>2.67407177415621</td>\n",
       "      <td>-0.0892431339912677</td>\n",
       "      <td>0.822561588291796</td>\n",
       "      <td>1.50632427582946</td>\n",
       "      <td>...</td>\n",
       "      <td>0.00861337881566351</td>\n",
       "      <td>0.851009974523584</td>\n",
       "      <td>-0.77548508676568</td>\n",
       "      <td>-1.22096362556006</td>\n",
       "      <td>0.557296647095748</td>\n",
       "      <td>-0.271862775394419</td>\n",
       "      <td>-1.5667425034041</td>\n",
       "      <td>-0.994205275432934</td>\n",
       "      <td>175</td>\n",
       "      <td>0</td>\n",
       "    </tr>\n",
       "    <tr>\n",
       "      <th>4</th>\n",
       "      <td>58359</td>\n",
       "      <td>1.27278370614652</td>\n",
       "      <td>0.304278625279372</td>\n",
       "      <td>-0.166548445622582</td>\n",
       "      <td>0.727912098191114</td>\n",
       "      <td>0.398891119781968</td>\n",
       "      <td>0.0403957737828267</td>\n",
       "      <td>0.134915762694388</td>\n",
       "      <td>-0.0436335339438501</td>\n",
       "      <td>-0.279520160859254</td>\n",
       "      <td>...</td>\n",
       "      <td>0.0121653235182436</td>\n",
       "      <td>0.065317283362877</td>\n",
       "      <td>-0.267363016801172</td>\n",
       "      <td>-0.810313134509659</td>\n",
       "      <td>0.829479947069833</td>\n",
       "      <td>-0.275886602794235</td>\n",
       "      <td>0.0108228919465189</td>\n",
       "      <td>0.000520230741261828</td>\n",
       "      <td>10.19</td>\n",
       "      <td>0</td>\n",
       "    </tr>\n",
       "    <tr>\n",
       "      <th>5</th>\n",
       "      <td>59506</td>\n",
       "      <td>-0.698542753874564</td>\n",
       "      <td>-0.901166276563582</td>\n",
       "      <td>1.93993316494701</td>\n",
       "      <td>-2.56048267875261</td>\n",
       "      <td>-1.11576281976222</td>\n",
       "      <td>0.0146003358539483</td>\n",
       "      <td>-0.431969272426638</td>\n",
       "      <td>0.242707645872424</td>\n",
       "      <td>-2.36517651930388</td>\n",
       "      <td>...</td>\n",
       "      <td>0.163905394127072</td>\n",
       "      <td>0.562500997743803</td>\n",
       "      <td>0.0763693773047964</td>\n",
       "      <td>-0.0190495450510778</td>\n",
       "      <td>-0.100030450165238</td>\n",
       "      <td>-0.266963186404007</td>\n",
       "      <td>0.0872444750194298</td>\n",
       "      <td>0.107071446115603</td>\n",
       "      <td>100</td>\n",
       "      <td>0</td>\n",
       "    </tr>\n",
       "    <tr>\n",
       "      <th>6</th>\n",
       "      <td>90876</td>\n",
       "      <td>2.08420913852485</td>\n",
       "      <td>0.138856485263937</td>\n",
       "      <td>-1.37306551903783</td>\n",
       "      <td>0.416321268401018</td>\n",
       "      <td>0.454360891746392</td>\n",
       "      <td>-0.725923885481793</td>\n",
       "      <td>0.14218697763232</td>\n",
       "      <td>-0.398085729250541</td>\n",
       "      <td>1.76779865170568</td>\n",
       "      <td>...</td>\n",
       "      <td>0.0956043374403373</td>\n",
       "      <td>0.690043578264837</td>\n",
       "      <td>0.0279645534348086</td>\n",
       "      <td>0.597622560831445</td>\n",
       "      <td>0.289559624267704</td>\n",
       "      <td>-0.172944321819026</td>\n",
       "      <td>-0.0440061852271083</td>\n",
       "      <td>-0.0579852531412462</td>\n",
       "      <td>3.59</td>\n",
       "      <td>0</td>\n",
       "    </tr>\n",
       "    <tr>\n",
       "      <th>7</th>\n",
       "      <td>114968</td>\n",
       "      <td>1.84135740356269</td>\n",
       "      <td>-0.544824401135573</td>\n",
       "      <td>-0.30169196986034</td>\n",
       "      <td>0.403788537035152</td>\n",
       "      <td>-0.788327910541013</td>\n",
       "      <td>-0.717142550159655</td>\n",
       "      <td>-0.335489668186148</td>\n",
       "      <td>-0.170292870483058</td>\n",
       "      <td>0.928976535144486</td>\n",
       "      <td>...</td>\n",
       "      <td>-0.154559741543096</td>\n",
       "      <td>-0.464456651461227</td>\n",
       "      <td>0.339302235168314</td>\n",
       "      <td>0.0730055051501035</td>\n",
       "      <td>-0.635254971467599</td>\n",
       "      <td>0.258801317209045</td>\n",
       "      <td>-0.0434190846559531</td>\n",
       "      <td>-0.0260956193016201</td>\n",
       "      <td>90</td>\n",
       "      <td>0</td>\n",
       "    </tr>\n",
       "    <tr>\n",
       "      <th>8</th>\n",
       "      <td>116219</td>\n",
       "      <td>0.0945009105637923</td>\n",
       "      <td>1.04850600008133</td>\n",
       "      <td>-2.44116990542136</td>\n",
       "      <td>-0.818460333337403</td>\n",
       "      <td>1.67223448074053</td>\n",
       "      <td>-0.206843394301094</td>\n",
       "      <td>1.07972015616618</td>\n",
       "      <td>0.304044056095126</td>\n",
       "      <td>-0.639296951681487</td>\n",
       "      <td>...</td>\n",
       "      <td>0.163164931449877</td>\n",
       "      <td>0.324689875043219</td>\n",
       "      <td>-0.170457969421123</td>\n",
       "      <td>-0.759979546149371</td>\n",
       "      <td>-0.228049101679919</td>\n",
       "      <td>0.581764038415345</td>\n",
       "      <td>-0.113033792379452</td>\n",
       "      <td>0.0161543031855033</td>\n",
       "      <td>42.81</td>\n",
       "      <td>0</td>\n",
       "    </tr>\n",
       "    <tr>\n",
       "      <th>9</th>\n",
       "      <td>129508</td>\n",
       "      <td>2.28416903719626</td>\n",
       "      <td>-0.590734810000216</td>\n",
       "      <td>-1.73417405056201</td>\n",
       "      <td>-1.15833260448266</td>\n",
       "      <td>0.11674331940433</td>\n",
       "      <td>-0.584527459730381</td>\n",
       "      <td>-0.263633990664876</td>\n",
       "      <td>-0.386956525664767</td>\n",
       "      <td>-0.742329516511752</td>\n",
       "      <td>...</td>\n",
       "      <td>0.400441470931391</td>\n",
       "      <td>1.2208042807285</td>\n",
       "      <td>-0.083955939522684</td>\n",
       "      <td>0.189027924455621</td>\n",
       "      <td>0.370322117383986</td>\n",
       "      <td>0.0700754264076844</td>\n",
       "      <td>-0.0345092019278939</td>\n",
       "      <td>-0.061934421066604</td>\n",
       "      <td>15</td>\n",
       "      <td>0</td>\n",
       "    </tr>\n",
       "    <tr>\n",
       "      <th>10</th>\n",
       "      <td>132736</td>\n",
       "      <td>0.266563503705801</td>\n",
       "      <td>0.509819152181696</td>\n",
       "      <td>0.644568877413996</td>\n",
       "      <td>1.01462143246206</td>\n",
       "      <td>0.455170378906581</td>\n",
       "      <td>0.312084357384213</td>\n",
       "      <td>0.502561694202447</td>\n",
       "      <td>-0.111745979356469</td>\n",
       "      <td>-0.0405326142476285</td>\n",
       "      <td>...</td>\n",
       "      <td>0.206463767552085</td>\n",
       "      <td>1.03104386120163</td>\n",
       "      <td>-0.232358240911807</td>\n",
       "      <td>0.81542870533079</td>\n",
       "      <td>-0.511979802304793</td>\n",
       "      <td>0.142384097541994</td>\n",
       "      <td>0.0793968165971028</td>\n",
       "      <td>-0.0247429349672963</td>\n",
       "      <td>8.27</td>\n",
       "      <td>0</td>\n",
       "    </tr>\n",
       "    <tr>\n",
       "      <th>11</th>\n",
       "      <td>135822</td>\n",
       "      <td>2.0428135977806</td>\n",
       "      <td>-0.377098372133823</td>\n",
       "      <td>-2.54744005419493</td>\n",
       "      <td>-0.726026784778722</td>\n",
       "      <td>2.38441152483396</td>\n",
       "      <td>3.31949028100714</td>\n",
       "      <td>-0.47369736985003</td>\n",
       "      <td>0.790494528117793</td>\n",
       "      <td>0.402891002571749</td>\n",
       "      <td>...</td>\n",
       "      <td>-0.290878673969748</td>\n",
       "      <td>-0.836965813643558</td>\n",
       "      <td>0.378126665036633</td>\n",
       "      <td>0.69838987207685</td>\n",
       "      <td>-0.266303875217229</td>\n",
       "      <td>0.21883770657099</td>\n",
       "      <td>-0.052905842772267</td>\n",
       "      <td>-0.0662261332272134</td>\n",
       "      <td>4.99</td>\n",
       "      <td>0</td>\n",
       "    </tr>\n",
       "    <tr>\n",
       "      <th>12</th>\n",
       "      <td>157145</td>\n",
       "      <td>2.05986698728706</td>\n",
       "      <td>-0.0768541001739136</td>\n",
       "      <td>-1.61524904408768</td>\n",
       "      <td>0.0414670914901862</td>\n",
       "      <td>0.501464304990988</td>\n",
       "      <td>-0.318236600493298</td>\n",
       "      <td>0.0749124120589972</td>\n",
       "      <td>-0.112482452662484</td>\n",
       "      <td>0.350027738242249</td>\n",
       "      <td>...</td>\n",
       "      <td>0.271319582411245</td>\n",
       "      <td>0.883387716908861</td>\n",
       "      <td>-0.0176946858893493</td>\n",
       "      <td>0.327109336544306</td>\n",
       "      <td>0.293418602125168</td>\n",
       "      <td>-0.133173770006058</td>\n",
       "      <td>-0.025744263114318</td>\n",
       "      <td>-0.0662706891726226</td>\n",
       "      <td>1.53</td>\n",
       "      <td>0</td>\n",
       "    </tr>\n",
       "    <tr>\n",
       "      <th>13</th>\n",
       "      <td>159868</td>\n",
       "      <td>1.61997486781066</td>\n",
       "      <td>0.0189400535573512</td>\n",
       "      <td>-0.517197493932654</td>\n",
       "      <td>3.79433281715926</td>\n",
       "      <td>0.283725897673443</td>\n",
       "      <td>0.550978947182584</td>\n",
       "      <td>0.0778448037715026</td>\n",
       "      <td>0.00928812426743091</td>\n",
       "      <td>-0.787907922462254</td>\n",
       "      <td>...</td>\n",
       "      <td>0.0906730563899975</td>\n",
       "      <td>-0.0184757042972865</td>\n",
       "      <td>0.133207632514061</td>\n",
       "      <td>0.582852675691879</td>\n",
       "      <td>-0.226705482897577</td>\n",
       "      <td>-0.15771348121955</td>\n",
       "      <td>-0.0366027237326275</td>\n",
       "      <td>-0.00464855299244363</td>\n",
       "      <td>154.99</td>\n",
       "      <td>0</td>\n",
       "    </tr>\n",
       "    <tr>\n",
       "      <th>14</th>\n",
       "      <td>163817</td>\n",
       "      <td>-0.573153705238695</td>\n",
       "      <td>1.07493218965708</td>\n",
       "      <td>-0.82375064227282</td>\n",
       "      <td>-0.487686502374397</td>\n",
       "      <td>0.610967625435126</td>\n",
       "      <td>-0.845020206461821</td>\n",
       "      <td>0.463725658128852</td>\n",
       "      <td>0.301539873602607</td>\n",
       "      <td>0.0509460625124346</td>\n",
       "      <td>...</td>\n",
       "      <td>0.117444773652549</td>\n",
       "      <td>0.418921402232487</td>\n",
       "      <td>0.241144472558396</td>\n",
       "      <td>0.599061448422329</td>\n",
       "      <td>-1.15672694911176</td>\n",
       "      <td>0.240609575469362</td>\n",
       "      <td>0.236912336381305</td>\n",
       "      <td>0.279518118140994</td>\n",
       "      <td>16.02</td>\n",
       "      <td>0</td>\n",
       "    </tr>\n",
       "  </tbody>\n",
       "</table>\n",
       "<p>15 rows × 31 columns</p>\n",
       "</div>"
      ],
      "text/plain": [
       "      Time                  V1                   V2                  V3  \\\n",
       "0    42234    -1.7524331477332   -0.419055733827287    2.53528644046672   \n",
       "1    42641  -0.873102958309257   -0.466765914550112    2.23215730360367   \n",
       "2    45351    -1.0568688599443     0.38433504372213   0.834099707878581   \n",
       "3    54459   -2.88433244607372    0.241184293767801    1.81832594577724   \n",
       "4    58359    1.27278370614652    0.304278625279372  -0.166548445622582   \n",
       "5    59506  -0.698542753874564   -0.901166276563582    1.93993316494701   \n",
       "6    90876    2.08420913852485    0.138856485263937   -1.37306551903783   \n",
       "7   114968    1.84135740356269   -0.544824401135573   -0.30169196986034   \n",
       "8   116219  0.0945009105637923     1.04850600008133   -2.44116990542136   \n",
       "9   129508    2.28416903719626   -0.590734810000216   -1.73417405056201   \n",
       "10  132736   0.266563503705801    0.509819152181696   0.644568877413996   \n",
       "11  135822     2.0428135977806   -0.377098372133823   -2.54744005419493   \n",
       "12  157145    2.05986698728706  -0.0768541001739136   -1.61524904408768   \n",
       "13  159868    1.61997486781066   0.0189400535573512  -0.517197493932654   \n",
       "14  163817  -0.573153705238695     1.07493218965708   -0.82375064227282   \n",
       "\n",
       "                    V4                  V5                    V6  \\\n",
       "0   0.0435559315179309    1.19562715748271      2.11740918676437   \n",
       "1     1.73103360762164   0.652687670394182     0.763353265492849   \n",
       "2    -1.81454179209205  -0.523873927518483  -0.00663293153702545   \n",
       "3    0.315421897263641    -1.2025760719795      2.67407177415621   \n",
       "4    0.727912098191114   0.398891119781968    0.0403957737828267   \n",
       "5    -2.56048267875261   -1.11576281976222    0.0146003358539483   \n",
       "6    0.416321268401018   0.454360891746392    -0.725923885481793   \n",
       "7    0.403788537035152  -0.788327910541013    -0.717142550159655   \n",
       "8   -0.818460333337403    1.67223448074053    -0.206843394301094   \n",
       "9    -1.15833260448266    0.11674331940433    -0.584527459730381   \n",
       "10    1.01462143246206   0.455170378906581     0.312084357384213   \n",
       "11  -0.726026784778722    2.38441152483396      3.31949028100714   \n",
       "12  0.0414670914901862   0.501464304990988    -0.318236600493298   \n",
       "13    3.79433281715926   0.283725897673443     0.550978947182584   \n",
       "14  -0.487686502374397   0.610967625435126    -0.845020206461821   \n",
       "\n",
       "                     V7                   V8                   V9  ...  \\\n",
       "0     0.622240351843119   0.0697994996855651     0.76353153361211  ...   \n",
       "1    -0.199816332688368    0.241234378153372    0.803049715750664  ...   \n",
       "2    -0.686254132914173    -2.70547500574678    -1.89222291887493  ...   \n",
       "3   -0.0892431339912677    0.822561588291796     1.50632427582946  ...   \n",
       "4     0.134915762694388  -0.0436335339438501   -0.279520160859254  ...   \n",
       "5    -0.431969272426638    0.242707645872424    -2.36517651930388  ...   \n",
       "6      0.14218697763232   -0.398085729250541     1.76779865170568  ...   \n",
       "7    -0.335489668186148   -0.170292870483058    0.928976535144486  ...   \n",
       "8      1.07972015616618    0.304044056095126   -0.639296951681487  ...   \n",
       "9    -0.263633990664876   -0.386956525664767   -0.742329516511752  ...   \n",
       "10    0.502561694202447   -0.111745979356469  -0.0405326142476285  ...   \n",
       "11    -0.47369736985003    0.790494528117793    0.402891002571749  ...   \n",
       "12   0.0749124120589972   -0.112482452662484    0.350027738242249  ...   \n",
       "13   0.0778448037715026  0.00928812426743091   -0.787907922462254  ...   \n",
       "14    0.463725658128852    0.301539873602607   0.0509460625124346  ...   \n",
       "\n",
       "                    V21                  V22                  V23  \\\n",
       "0   -0.0286771358898975    0.830596805435572   -0.335279683642818   \n",
       "1     -0.29981676581135   -0.510785112040975     0.14233434055339   \n",
       "2    -0.875309388105664     1.38267916351104   -0.272977007236098   \n",
       "3   0.00861337881566351    0.851009974523584    -0.77548508676568   \n",
       "4    0.0121653235182436    0.065317283362877   -0.267363016801172   \n",
       "5     0.163905394127072    0.562500997743803   0.0763693773047964   \n",
       "6    0.0956043374403373    0.690043578264837   0.0279645534348086   \n",
       "7    -0.154559741543096   -0.464456651461227    0.339302235168314   \n",
       "8     0.163164931449877    0.324689875043219   -0.170457969421123   \n",
       "9     0.400441470931391      1.2208042807285   -0.083955939522684   \n",
       "10    0.206463767552085     1.03104386120163   -0.232358240911807   \n",
       "11   -0.290878673969748   -0.836965813643558    0.378126665036633   \n",
       "12    0.271319582411245    0.883387716908861  -0.0176946858893493   \n",
       "13   0.0906730563899975  -0.0184757042972865    0.133207632514061   \n",
       "14    0.117444773652549    0.418921402232487    0.241144472558396   \n",
       "\n",
       "                    V24                  V25                 V26  \\\n",
       "0     -1.00779708785447    0.245120949124039   -0.35929465581098   \n",
       "1    -0.463695297130048   -0.299635035162249  -0.433643172068359   \n",
       "2    0.0550718778421547  -0.0999609938893566  -0.303686035486177   \n",
       "3     -1.22096362556006    0.557296647095748  -0.271862775394419   \n",
       "4    -0.810313134509659    0.829479947069833  -0.275886602794235   \n",
       "5   -0.0190495450510778   -0.100030450165238  -0.266963186404007   \n",
       "6     0.597622560831445    0.289559624267704  -0.172944321819026   \n",
       "7    0.0730055051501035   -0.635254971467599   0.258801317209045   \n",
       "8    -0.759979546149371   -0.228049101679919   0.581764038415345   \n",
       "9     0.189027924455621    0.370322117383986  0.0700754264076844   \n",
       "10     0.81542870533079   -0.511979802304793   0.142384097541994   \n",
       "11     0.69838987207685   -0.266303875217229    0.21883770657099   \n",
       "12    0.327109336544306    0.293418602125168  -0.133173770006058   \n",
       "13    0.582852675691879   -0.226705482897577   -0.15771348121955   \n",
       "14    0.599061448422329    -1.15672694911176   0.240609575469362   \n",
       "\n",
       "                    V27                   V28  Amount Class  \n",
       "0    -0.731133628928866    -0.426853189642464   87.11     0  \n",
       "1    0.0288172443772179   -0.0548318581042295   53.73     0  \n",
       "2     0.152844671937108     0.120109403842216     121     0  \n",
       "3      -1.5667425034041    -0.994205275432934     175     0  \n",
       "4    0.0108228919465189  0.000520230741261828   10.19     0  \n",
       "5    0.0872444750194298     0.107071446115603     100     0  \n",
       "6   -0.0440061852271083   -0.0579852531412462    3.59     0  \n",
       "7   -0.0434190846559531   -0.0260956193016201      90     0  \n",
       "8    -0.113033792379452    0.0161543031855033   42.81     0  \n",
       "9   -0.0345092019278939    -0.061934421066604      15     0  \n",
       "10   0.0793968165971028   -0.0247429349672963    8.27     0  \n",
       "11   -0.052905842772267   -0.0662261332272134    4.99     0  \n",
       "12   -0.025744263114318   -0.0662706891726226    1.53     0  \n",
       "13  -0.0366027237326275  -0.00464855299244363  154.99     0  \n",
       "14    0.236912336381305     0.279518118140994   16.02     0  \n",
       "\n",
       "[15 rows x 31 columns]"
      ]
     },
     "execution_count": 2,
     "metadata": {},
     "output_type": "execute_result"
    }
   ],
   "source": [
    "# Importer le fichier creditcard.csv en tant que DataFrame appelé df_raw\n",
    "df_raw = spark.read.csv('creditcard.csv', header = True)\n",
    "\n",
    "# Afficher un extrait du DataFrame df_raw\n",
    "df_raw.sample(False, .00005, seed = 222).toPandas()"
   ]
  },
  {
   "attachments": {},
   "cell_type": "markdown",
   "metadata": {
    "deletable": false,
    "dst-cell-id": "805dd2bc-eb52-4205-975f-dadf820fce3e",
    "editable": false,
    "run_control": {
     "frozen": true
    }
   },
   "source": [
    "J'ai créé un DataFrame df à partir de df_raw en changeant les colonnes des variables cibles en double et la variable cible, Class, en int\n",
    "\n",
    "Puis j'ai affiché le schéma des variables de df\n",
    "\n",
    "\n",
    "Comme bonne pratique, j'ai mis la variable à prédire ou la variable cible dans la première colonne\n"
   ]
  },
  {
   "cell_type": "code",
   "execution_count": 3,
   "metadata": {
    "dst-cell-id": "13c541d6-931c-4070-9fef-929c254707f4",
    "scrolled": true
   },
   "outputs": [
    {
     "name": "stdout",
     "output_type": "stream",
     "text": [
      "root\n",
      " |-- Class: integer (nullable = true)\n",
      " |-- Time: double (nullable = true)\n",
      " |-- V1: double (nullable = true)\n",
      " |-- V2: double (nullable = true)\n",
      " |-- V3: double (nullable = true)\n",
      " |-- V4: double (nullable = true)\n",
      " |-- V5: double (nullable = true)\n",
      " |-- V6: double (nullable = true)\n",
      " |-- V7: double (nullable = true)\n",
      " |-- V8: double (nullable = true)\n",
      " |-- V9: double (nullable = true)\n",
      " |-- V10: double (nullable = true)\n",
      " |-- V11: double (nullable = true)\n",
      " |-- V12: double (nullable = true)\n",
      " |-- V13: double (nullable = true)\n",
      " |-- V14: double (nullable = true)\n",
      " |-- V15: double (nullable = true)\n",
      " |-- V16: double (nullable = true)\n",
      " |-- V17: double (nullable = true)\n",
      " |-- V18: double (nullable = true)\n",
      " |-- V19: double (nullable = true)\n",
      " |-- V20: double (nullable = true)\n",
      " |-- V21: double (nullable = true)\n",
      " |-- V22: double (nullable = true)\n",
      " |-- V23: double (nullable = true)\n",
      " |-- V24: double (nullable = true)\n",
      " |-- V25: double (nullable = true)\n",
      " |-- V26: double (nullable = true)\n",
      " |-- V27: double (nullable = true)\n",
      " |-- V28: double (nullable = true)\n",
      " |-- Amount: double (nullable = true)\n",
      "\n"
     ]
    }
   ],
   "source": [
    "# Import de col du package pyspark.sql.functions\n",
    "from pyspark.sql.functions import col\n",
    "\n",
    "# La variable Class est située dans la dernière colonne, on change donc en double les 30 premières colonnes\n",
    "exprs = [col(c).cast(\"double\") for c in df_raw.columns[:30]]\n",
    "\n",
    "# On met la variable classe dans la première colonne en la changeant en type int au passage, puis on met les autres colonnes\n",
    "df = df_raw.select(col(df_raw.columns[30]).cast('int'), *exprs)\n",
    "\n",
    "# affichage du schéma des variables \"df\"\n",
    "df.printSchema()"
   ]
  },
  {
   "attachments": {},
   "cell_type": "markdown",
   "metadata": {
    "deletable": false,
    "dst-cell-id": "f9131a46-1c5f-408b-a7b2-715a455004ac",
    "editable": false,
    "run_control": {
     "frozen": true
    }
   },
   "source": [
    "Il n'y a pas de valeurs manquantes dans le dataset\n",
    "\n",
    "J'affiche le nombre d'individus par modalité de Class"
   ]
  },
  {
   "cell_type": "code",
   "execution_count": 4,
   "metadata": {
    "dst-cell-id": "5a1183ff-612c-4c65-bab1-939abf4b55ba"
   },
   "outputs": [
    {
     "name": "stdout",
     "output_type": "stream",
     "text": [
      "+-----+------+\n",
      "|Class| count|\n",
      "+-----+------+\n",
      "|    1|   492|\n",
      "|    0|284315|\n",
      "+-----+------+\n",
      "\n"
     ]
    }
   ],
   "source": [
    "df.groupBy('Class').count().show()"
   ]
  },
  {
   "attachments": {},
   "cell_type": "markdown",
   "metadata": {
    "deletable": false,
    "dst-cell-id": "374964e1-fa5b-4306-82e5-cf295211475c",
    "editable": false,
    "run_control": {
     "frozen": true
    }
   },
   "source": [
    "Je créé un DataFrame df0 contenant uniquement des observations de la Class 0\n",
    "\n",
    "Il devra y avoir autant d'individus que dans la Class 1 du DataFrame df"
   ]
  },
  {
   "cell_type": "code",
   "execution_count": 5,
   "metadata": {
    "collapsed": true,
    "dst-cell-id": "fa00d704-0144-412a-9877-8d5d9b0dac28"
   },
   "outputs": [],
   "source": [
    "df0 = df.filter(df.Class == 0).sample(False, 0.0017, seed = 222)"
   ]
  },
  {
   "attachments": {},
   "cell_type": "markdown",
   "metadata": {
    "deletable": false,
    "dst-cell-id": "3fdb30cb-6809-42b2-98b0-a7296ce7508e",
    "editable": false,
    "run_control": {
     "frozen": true
    }
   },
   "source": [
    "La méthode unionAll d'un DataFrame renvoie un DataFrame où l'objet appelant la méthode et le paramètre sont mélangés\n",
    "\n",
    "J'ai crée un DataFrame new_df où les deux Class sont uniforméments distribuées"
   ]
  },
  {
   "cell_type": "code",
   "execution_count": 6,
   "metadata": {
    "dst-cell-id": "2f406f0b-aebb-4a78-bb7c-8cccf2b34ad1"
   },
   "outputs": [
    {
     "name": "stdout",
     "output_type": "stream",
     "text": [
      "+-----+-----+\n",
      "|Class|count|\n",
      "+-----+-----+\n",
      "|    1|  492|\n",
      "|    0|  473|\n",
      "+-----+-----+\n",
      "\n"
     ]
    }
   ],
   "source": [
    "new_df = df0.unionAll(df.filter(df.Class == 1))\n",
    "new_df.groupBy('Class').count().show()"
   ]
  },
  {
   "attachments": {},
   "cell_type": "markdown",
   "metadata": {
    "deletable": false,
    "dst-cell-id": "822b273c-6de0-404b-b00d-b4436ef0fafe",
    "editable": false,
    "run_control": {
     "frozen": true
    }
   },
   "source": [
    "J'ai créé :\n",
    "\n",
    "un rdd rdd_ml séparant la variable à expliquer des features (à mettre sous forme DenseVector)\n",
    "\n",
    "un DataFrame df_ml contenant notre base de données sous deux variables : labels et features"
   ]
  },
  {
   "cell_type": "code",
   "execution_count": 7,
   "metadata": {
    "collapsed": true,
    "dst-cell-id": "82b24326-bea9-4664-8b6d-3f01cff78cea"
   },
   "outputs": [],
   "source": [
    "# Import de DenseVector du package pyspark.ml.linalg\n",
    "from pyspark.ml.linalg import DenseVector\n",
    "\n",
    "# Création d'un rdd en séparant la variable à expliquer des features\n",
    "rdd_ml = new_df.rdd.map(lambda x: (x[0], DenseVector(x[1:])))\n",
    "\n",
    "# Création d'un data frame composé de deux variables : label et features\n",
    "new_df_ml = spark.createDataFrame(rdd_ml, ['label', 'features'])\n"
   ]
  },
  {
   "attachments": {},
   "cell_type": "markdown",
   "metadata": {
    "deletable": false,
    "dst-cell-id": "9c46bdc2-bd43-4e50-b56d-6f262551d313",
    "editable": false,
    "run_control": {
     "frozen": true
    }
   },
   "source": [
    "Par la suite, j'ai crée :\n",
    "\n",
    "-deux DataFrames appelés train et test contenant chacun respectivement 80% et 20% des données\n",
    "\n",
    "-un classificateur Random Forest appelé clf\n",
    "\n",
    "\n",
    "Puis apprendre le modèle des forêts aléatoires sur l'ensemble d'entraînement"
   ]
  },
  {
   "cell_type": "code",
   "execution_count": 8,
   "metadata": {
    "dst-cell-id": "20b2eed1-511f-48d0-b690-fae1c6f9ca43"
   },
   "outputs": [
    {
     "name": "stdout",
     "output_type": "stream",
     "text": [
      "6.438539028167725\n",
      "+-----+--------------------+--------------------+--------------------+----------+\n",
      "|label|            features|       rawPrediction|         probability|prediction|\n",
      "+-----+--------------------+--------------------+--------------------+----------+\n",
      "|    0|[2012.0,-0.410279...|[18.7202452783780...|[0.93601226391890...|       0.0|\n",
      "|    0|[2493.0,0.5587202...|[18.6054224644107...|[0.93027112322053...|       0.0|\n",
      "|    0|[2783.0,-0.359516...|[18.4570982873013...|[0.92285491436506...|       0.0|\n",
      "|    0|[6010.0,-6.962661...|[16.2034023395441...|[0.81017011697720...|       0.0|\n",
      "|    0|[7447.0,-5.726395...|[12.9074417403977...|[0.64537208701988...|       0.0|\n",
      "|    0|[18676.0,-2.15399...|[12.5018825282347...|[0.62509412641173...|       0.0|\n",
      "|    0|[23663.0,-2.13395...|[18.5900100993534...|[0.92950050496767...|       0.0|\n",
      "|    0|[26803.0,-1.30667...|[15.3611632354055...|[0.76805816177027...|       0.0|\n",
      "|    0|[27722.0,-0.80876...|[18.5970989155384...|[0.92985494577692...|       0.0|\n",
      "|    0|[28779.0,-1.29893...|[18.4942556805697...|[0.92471278402848...|       0.0|\n",
      "|    0|[31574.0,0.749724...|[18.0458986548869...|[0.90229493274434...|       0.0|\n",
      "|    0|[31966.0,1.568980...|[18.7202452783780...|[0.93601226391890...|       0.0|\n",
      "|    0|[32102.0,-1.36030...|[18.7785274869670...|[0.93892637434835...|       0.0|\n",
      "|    0|[33510.0,1.349217...|[18.4942556805697...|[0.92471278402848...|       0.0|\n",
      "|    0|[34954.0,-0.89786...|[17.5970989155384...|[0.87985494577692...|       0.0|\n",
      "|    0|[36942.0,-0.57674...|[18.7598492387741...|[0.93799246193870...|       0.0|\n",
      "|    0|[38673.0,1.160906...|[18.7202452783780...|[0.93601226391890...|       0.0|\n",
      "|    0|[39609.0,-2.03820...|[14.8873095890736...|[0.74436547945368...|       0.0|\n",
      "|    0|[40290.0,-0.80191...|[18.5525378891586...|[0.92762689445793...|       0.0|\n",
      "|    0|[41228.0,1.085652...|[18.7598492387741...|[0.93799246193870...|       0.0|\n",
      "+-----+--------------------+--------------------+--------------------+----------+\n",
      "only showing top 20 rows\n",
      "\n"
     ]
    }
   ],
   "source": [
    "# train and test data \n",
    "train, test = new_df_ml.randomSplit([.8, .2], seed= 123)\n",
    "\n",
    "#\n",
    "from time import time\n",
    "t0 = time()\n",
    "\n",
    "# Import de RandomForestClassifier du package pyspark.ml.classification\n",
    "from pyspark.ml.classification import RandomForestClassifier\n",
    "\n",
    "# Création d'une fonction de forêt aléatoires\n",
    "clf = RandomForestClassifier(labelCol=\"label\", featuresCol=\"features\", predictionCol='prediction')\n",
    "\n",
    "# Apprentissage des données d'entraînement : \"train\"\n",
    "model = clf.fit(train)\n",
    "\n",
    "print(time() - t0)\n",
    "\n",
    "# Calcul des prédictions des données de test\n",
    "predicted = model.transform(test)\n",
    "\n",
    "# Affichage des prédictions\n",
    "predicted.show()"
   ]
  },
  {
   "attachments": {},
   "cell_type": "markdown",
   "metadata": {
    "deletable": false,
    "dst-cell-id": "3c9395d8-2adc-483c-bdaf-a4ac543d2a73",
    "editable": false,
    "run_control": {
     "frozen": true
    }
   },
   "source": [
    "J'ai calculé la précision (accuracy) du modèle entraîné"
   ]
  },
  {
   "cell_type": "code",
   "execution_count": 9,
   "metadata": {
    "dst-cell-id": "d5904c5d-de60-4844-85f2-943f6eb7fbfa"
   },
   "outputs": [
    {
     "name": "stdout",
     "output_type": "stream",
     "text": [
      "0.9411764705882353\n"
     ]
    }
   ],
   "source": [
    "# Import d'un évaluateur MulticlassClassificationEvaluator du package pyspark.ml.evaluation\n",
    "from pyspark.ml.evaluation import MulticlassClassificationEvaluator\n",
    "\n",
    "# Création d'un évaluateur \n",
    "evaluator = MulticlassClassificationEvaluator(metricName='accuracy',\n",
    "                                              labelCol= 'label',\n",
    "                                              predictionCol= 'prediction')\n",
    "# Calcul et affichage de la précision du modèle \n",
    "accuracy = evaluator.evaluate(predicted)\n",
    "print(accuracy)"
   ]
  },
  {
   "attachments": {},
   "cell_type": "markdown",
   "metadata": {
    "deletable": false,
    "dst-cell-id": "42bfa0f4-e9cf-427e-b9cf-c719df8ac245",
    "editable": false,
    "run_control": {
     "frozen": true
    }
   },
   "source": [
    "Par la suite :\n",
    "\n",
    "- j'ai créé un modèle de régression logistique\n",
    "\n",
    "- à l'aide de l'évaluateur précédent, cross-validé ce modèle pour le paramètre regParem appartenant à $[0, 0.01, 0.1, 1]$\n",
    "\n",
    "- j'ai comparé la précision des deux modèles obtenues\n",
    "\n",
    "\n",
    "NB : Il se peut que la cross validation prenne un peu de temps (~ 2-3 minutes)"
   ]
  },
  {
   "cell_type": "code",
   "execution_count": 10,
   "metadata": {
    "dst-cell-id": "5eef223e-1812-41aa-9a36-6e0517ab2365"
   },
   "outputs": [
    {
     "name": "stdout",
     "output_type": "stream",
     "text": [
      "0.9411764705882353 0.9558823529411765\n"
     ]
    }
   ],
   "source": [
    "# Import de la régression logistique et de la cross-validation ainsi que de la grille de paramètres\n",
    "from pyspark.ml.classification import LogisticRegression\n",
    "from pyspark.ml.tuning import CrossValidator, ParamGridBuilder\n",
    "\n",
    "# Création de la régression logistique\n",
    "lr = LogisticRegression(featuresCol = 'features', labelCol = 'label')\n",
    "\n",
    "# Création de la grille de paramètre\n",
    "param_grid = ParamGridBuilder().\\\n",
    "    addGrid(lr.regParam, [0, 0.01, 0.1, 1]).\\\n",
    "    build()\n",
    "\n",
    "# Création du modèle de cross-validation\n",
    "cv = CrossValidator(estimator = lr, estimatorParamMaps = param_grid, evaluator = evaluator, numFolds = 3)\n",
    "\n",
    "# Entraînement du modèle précédent\n",
    "cv_model = cv.fit(train)\n",
    "\n",
    "# Calcul de la deuxième prédiction et de la précision\n",
    "predicted2 = cv_model.transform(test)\n",
    "accuracy2 = evaluator.evaluate(predicted2)\n",
    "\n",
    "# Affichage des deux précisions\n",
    "print(accuracy, accuracy2)"
   ]
  },
  {
   "attachments": {},
   "cell_type": "markdown",
   "metadata": {
    "deletable": false,
    "dst-cell-id": "b31bd016-23f8-40e7-a314-fd6d5b0ac91a",
    "editable": false,
    "run_control": {
     "frozen": true
    }
   },
   "source": [
    "Penser à la fin à stopper la session spark :"
   ]
  },
  {
   "cell_type": "code",
   "execution_count": 11,
   "metadata": {
    "collapsed": true,
    "dst-cell-id": "9e817fa2-78bc-4f5b-8488-dc0ca140d117"
   },
   "outputs": [],
   "source": [
    "spark.stop()\n",
    "sc.stop()"
   ]
  }
 ],
 "metadata": {
  "anaconda-cloud": {},
  "celltoolbar": "DataScientest - Edit",
  "kernelspec": {
   "display_name": "Python3 default",
   "language": "python",
   "name": "python3"
  },
  "language_info": {
   "codemirror_mode": {
    "name": "ipython",
    "version": 3
   },
   "file_extension": ".py",
   "mimetype": "text/x-python",
   "name": "python",
   "nbconvert_exporter": "python",
   "pygments_lexer": "ipython3",
   "version": "3.6.5"
  },
  "latex_envs": {
   "LaTeX_envs_menu_present": true,
   "autoclose": false,
   "autocomplete": true,
   "bibliofile": "biblio.bib",
   "cite_by": "apalike",
   "current_citInitial": 1,
   "eqLabelWithNumbers": true,
   "eqNumInitial": 1,
   "hotkeys": {
    "equation": "Ctrl-E",
    "itemize": "Ctrl-I"
   },
   "labels_anchors": false,
   "latex_user_defs": false,
   "report_style_numbering": false,
   "user_envs_cfg": false
  },
  "n_questions": 1,
  "owner": "DataScientest",
  "varInspector": {
   "cols": {
    "lenName": 16,
    "lenType": 16,
    "lenVar": 40
   },
   "kernels_config": {
    "python": {
     "delete_cmd_postfix": "",
     "delete_cmd_prefix": "del ",
     "library": "var_list.py",
     "varRefreshCmd": "print(var_dic_list())"
    },
    "r": {
     "delete_cmd_postfix": ") ",
     "delete_cmd_prefix": "rm(",
     "library": "var_list.r",
     "varRefreshCmd": "cat(var_dic_list()) "
    }
   },
   "position": {
    "height": "144px",
    "left": "960px",
    "right": "20px",
    "top": "161px",
    "width": "350px"
   },
   "types_to_exclude": [
    "module",
    "function",
    "builtin_function_or_method",
    "instance",
    "_Feature"
   ],
   "window_display": false
  }
 },
 "nbformat": 4,
 "nbformat_minor": 2
}
